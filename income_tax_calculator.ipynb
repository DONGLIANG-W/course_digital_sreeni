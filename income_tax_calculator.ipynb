{
 "cells": [
  {
   "cell_type": "markdown",
   "id": "a0ea6925",
   "metadata": {},
   "source": [
    "# Income tax calculator"
   ]
  },
  {
   "cell_type": "markdown",
   "id": "919365b2",
   "metadata": {},
   "source": [
    "### income based on the salary slip"
   ]
  },
  {
   "cell_type": "code",
   "execution_count": 4,
   "id": "cdf4c8fb",
   "metadata": {},
   "outputs": [],
   "source": [
    "import pandas as pd\n",
    "import numpy as np"
   ]
  },
  {
   "cell_type": "markdown",
   "id": "d88c7176",
   "metadata": {},
   "source": [
    "### tax rate"
   ]
  },
  {
   "cell_type": "code",
   "execution_count": 28,
   "id": "ddfa18ee",
   "metadata": {},
   "outputs": [],
   "source": [
    "def gross_tax(chargeable_inc):\n",
    "    tax = 0\n",
    "    if 20000 < chargeable_inc <= 30000:\n",
    "        tax = 0.02*(chargeable_inc-20000)\n",
    "    if 30000 < chargeable_inc <= 40000:\n",
    "        tax = 0.035*(chargeable_inc-30000) + 200    \n",
    "    if 40000 < chargeable_inc <= 80000:\n",
    "        tax = 0.07*(chargeable_inc-40000) + 550  \n",
    "    if 80000 < chargeable_inc <= 120000:\n",
    "        tax = 0.115*(chargeable_inc-80000) + 3350 \n",
    "    if 120000 < chargeable_inc <= 160000:\n",
    "        tax = 0.15*(chargeable_inc-160000) + 7950\n",
    "    tax = round(tax, 2)\n",
    "    return tax"
   ]
  },
  {
   "cell_type": "markdown",
   "id": "04b0e9de",
   "metadata": {},
   "source": [
    "### DL income"
   ]
  },
  {
   "cell_type": "code",
   "execution_count": 5,
   "id": "f2d4b754",
   "metadata": {},
   "outputs": [],
   "source": [
    "jan_earn, jan_cpf, jan_cdac = 8000, 1200, 3\n",
    "feb_earn, feb_cpf, feb_cdac = 8000, 1200, 3\n",
    "mar_earn, mar_cpf, mar_cdac = 8000, 1200, 3\n",
    "apr_earn, apr_cpf, apr_cdac = 8000, 1200, 3\n",
    "may_earn, may_cpf, may_cdac = 8000, 1200, 3\n",
    "jun_earn, jun_cpf, jun_cdac = 8476, 1200, 3 \n",
    "jul_earn, jul_cpf, jul_cdac = 8000, 1200, 3\n",
    "aug_earn, aug_cpf, aug_cdac = 8000, 1200, 3\n",
    "sep_earn, sep_cpf, sep_cdac = 8000, 1200, 3\n",
    "oct_earn, oct_cpf, oct_cdac = 8000, 1200, 3\n",
    "nov_earn, nov_cpf, nov_cdac = 8000, 1200, 3\n",
    "dec_earn, dec_cpf, dec_cdac = 8000, 1200, 3"
   ]
  },
  {
   "cell_type": "code",
   "execution_count": 8,
   "id": "92260e28",
   "metadata": {},
   "outputs": [],
   "source": [
    "total_earn = jan_earn + feb_earn + mar_earn + apr_earn + may_earn + jun_earn + jul_earn + aug_earn + sep_earn + oct_earn + nov_earn + dec_earn"
   ]
  },
  {
   "cell_type": "markdown",
   "id": "3972211c",
   "metadata": {},
   "source": [
    "### DL deduction"
   ]
  },
  {
   "cell_type": "code",
   "execution_count": 10,
   "id": "e442f16f",
   "metadata": {},
   "outputs": [],
   "source": [
    "donation = jan_cdac + feb_cdac + mar_cdac + apr_cdac + may_cdac + jun_cdac + jul_cdac + aug_cdac + sep_cdac + oct_cdac + nov_cdac + dec_cdac"
   ]
  },
  {
   "cell_type": "code",
   "execution_count": 31,
   "id": "e45e6ba1",
   "metadata": {},
   "outputs": [],
   "source": [
    "earned_income = 1000\n",
    "child_qcr = 4000\n",
    "dl_qcr = 2000\n",
    "ym_qcr = child_qcr - dl_qcr\n",
    "\n",
    "dl_cpf = jan_cpf + feb_cpf + mar_cpf + apr_cpf + may_cpf + jun_cpf + jul_cpf + aug_cpf + sep_cpf + oct_cpf + nov_cpf + dec_cpf\n",
    "\n",
    "dl_srs = 1\n",
    "\n",
    "cpf_cash_top_up = 16000\n",
    "dl_cpf_cash_top_up = 0\n",
    "ym_cpf_cash_top_up = cpf_cash_top_up - dl_cpf_cash_top_up"
   ]
  },
  {
   "cell_type": "markdown",
   "id": "d72de53c",
   "metadata": {},
   "source": [
    "### DL chargeable income"
   ]
  },
  {
   "cell_type": "code",
   "execution_count": 17,
   "id": "5d5d7154",
   "metadata": {},
   "outputs": [],
   "source": [
    "chargeable_income = total_earn - donation - dl_qcr - dl_cpf - dl_srs - dl_cpf_cash_top_up"
   ]
  },
  {
   "cell_type": "markdown",
   "id": "88d16bdf",
   "metadata": {},
   "source": [
    "### YM income salary"
   ]
  },
  {
   "cell_type": "code",
   "execution_count": null,
   "id": "78fafe28",
   "metadata": {},
   "outputs": [],
   "source": [
    "ym_earn_salary = 65000"
   ]
  },
  {
   "cell_type": "markdown",
   "id": "2f006431",
   "metadata": {},
   "source": [
    "### YM deduction"
   ]
  },
  {
   "cell_type": "code",
   "execution_count": null,
   "id": "ff72b615",
   "metadata": {},
   "outputs": [],
   "source": [
    "ym_donation = 36\n",
    "ym_cpf = 15000"
   ]
  },
  {
   "cell_type": "markdown",
   "id": "d0be67e9",
   "metadata": {},
   "source": [
    "### YM rental income"
   ]
  },
  {
   "cell_type": "code",
   "execution_count": 32,
   "id": "a4347f88",
   "metadata": {},
   "outputs": [],
   "source": [
    "ym_earn_rental = 3450*12"
   ]
  },
  {
   "cell_type": "markdown",
   "id": "ca12a872",
   "metadata": {},
   "source": [
    "### YM rental income deduction"
   ]
  },
  {
   "cell_type": "code",
   "execution_count": null,
   "id": "1e59768c",
   "metadata": {},
   "outputs": [],
   "source": [
    "ym_earn_rental_management = 255*12\n",
    "ym_earn_rental_repair = 600"
   ]
  },
  {
   "cell_type": "code",
   "execution_count": null,
   "id": "15b999c2",
   "metadata": {},
   "outputs": [],
   "source": []
  },
  {
   "cell_type": "code",
   "execution_count": null,
   "id": "d1e1d3aa",
   "metadata": {},
   "outputs": [],
   "source": []
  },
  {
   "cell_type": "code",
   "execution_count": null,
   "id": "cc035e54",
   "metadata": {},
   "outputs": [],
   "source": []
  },
  {
   "cell_type": "code",
   "execution_count": null,
   "id": "d2eb9b92",
   "metadata": {},
   "outputs": [],
   "source": []
  },
  {
   "cell_type": "code",
   "execution_count": null,
   "id": "c505213b",
   "metadata": {},
   "outputs": [],
   "source": []
  },
  {
   "cell_type": "code",
   "execution_count": null,
   "id": "5dcd49b2",
   "metadata": {},
   "outputs": [],
   "source": []
  }
 ],
 "metadata": {
  "kernelspec": {
   "display_name": "Python 3 (ipykernel)",
   "language": "python",
   "name": "python3"
  },
  "language_info": {
   "codemirror_mode": {
    "name": "ipython",
    "version": 3
   },
   "file_extension": ".py",
   "mimetype": "text/x-python",
   "name": "python",
   "nbconvert_exporter": "python",
   "pygments_lexer": "ipython3",
   "version": "3.10.12"
  }
 },
 "nbformat": 4,
 "nbformat_minor": 5
}
