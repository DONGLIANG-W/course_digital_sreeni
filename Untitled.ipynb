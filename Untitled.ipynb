{
 "cells": [
  {
   "cell_type": "markdown",
   "id": "80230bad",
   "metadata": {},
   "source": [
    "Python script that uses the OpenCV library to display an image, record mouse clicks, and dim the areas outside the selected region."
   ]
  },
  {
   "cell_type": "code",
   "execution_count": null,
   "id": "08ac3933",
   "metadata": {},
   "outputs": [],
   "source": [
    "import cv2\n",
    "import numpy as np\n",
    "\n",
    "# Global variables\n",
    "points = []\n",
    "region_selected = False\n",
    "\n",
    "# Mouse click callback function\n",
    "def mouse_callback(event, x, y, flags, param):\n",
    "    global points, region_selected\n",
    "    \n",
    "    if event == cv2.EVENT_LBUTTONDOWN:\n",
    "        points.append((x, y))\n",
    "        cv2.circle(image, (x, y), 3, (0, 0, 255), -1)\n",
    "        \n",
    "        if len(points) > 2:\n",
    "            region_selected = True\n",
    "\n",
    "# Load the image\n",
    "image_path = input(\"Enter the path to the image: \")\n",
    "image = cv2.imread(image_path)\n",
    "\n",
    "# Create a window and set the mouse callback\n",
    "cv2.namedWindow('Image')\n",
    "cv2.setMouseCallback('Image', mouse_callback)\n",
    "\n",
    "while True:\n",
    "    # Display the image\n",
    "    display_image = np.copy(image)\n",
    "    \n",
    "    if region_selected:\n",
    "        roi_corners = np.array([points], dtype=np.int32)\n",
    "        \n",
    "        # Compute the bounding rectangle of the selected area\n",
    "        x, y, w, h = cv2.boundingRect(roi_corners)\n",
    "        roi = image[y:y+h, x:x+w]\n",
    "        \n",
    "        # Resize the selected area to match the original image size\n",
    "        roi_resized = cv2.resize(roi, (image.shape[1], image.shape[0]))\n",
    "        \n",
    "        # Create a mask for the selected area\n",
    "        mask = np.zeros_like(image)\n",
    "        cv2.fillPoly(mask, [roi_corners], (255, 255, 255))\n",
    "        \n",
    "        # Apply the mask to the resized area\n",
    "        result = cv2.bitwise_and(roi_resized, mask)\n",
    "        display_image = result\n",
    "    \n",
    "    cv2.imshow('Image', display_image)\n",
    "    \n",
    "    # Check for key press\n",
    "    key = cv2.waitKey(1) & 0xFF\n",
    "    if key == ord('q'):\n",
    "        break\n",
    "    elif key == 13:  # Enter key\n",
    "        if region_selected:\n",
    "            cv2.destroyAllWindows()\n",
    "            \n",
    "            # Display the resized selected area in a new window\n",
    "            cv2.imshow('Resized Selected Area', result)\n",
    "            cv2.waitKey(0)\n",
    "            break\n",
    "\n",
    "cv2.destroyAllWindows()\n"
   ]
  },
  {
   "cell_type": "code",
   "execution_count": null,
   "id": "37f3aa1a",
   "metadata": {},
   "outputs": [],
   "source": [
    "/home/orangepi/PycharmProjects/course_digital_sreeni/images/leaf.jpg"
   ]
  },
  {
   "cell_type": "code",
   "execution_count": null,
   "id": "f4d4636d",
   "metadata": {},
   "outputs": [],
   "source": []
  },
  {
   "cell_type": "code",
   "execution_count": null,
   "id": "486fd0b3",
   "metadata": {},
   "outputs": [],
   "source": []
  },
  {
   "cell_type": "code",
   "execution_count": null,
   "id": "5a309693",
   "metadata": {},
   "outputs": [],
   "source": []
  },
  {
   "cell_type": "code",
   "execution_count": null,
   "id": "8ea8115a",
   "metadata": {},
   "outputs": [],
   "source": []
  },
  {
   "cell_type": "code",
   "execution_count": null,
   "id": "f4c98eec",
   "metadata": {},
   "outputs": [],
   "source": []
  },
  {
   "cell_type": "code",
   "execution_count": null,
   "id": "192818fd",
   "metadata": {},
   "outputs": [],
   "source": []
  },
  {
   "cell_type": "code",
   "execution_count": null,
   "id": "28034c24",
   "metadata": {},
   "outputs": [],
   "source": []
  },
  {
   "cell_type": "code",
   "execution_count": null,
   "id": "0f060666",
   "metadata": {},
   "outputs": [],
   "source": []
  },
  {
   "cell_type": "code",
   "execution_count": null,
   "id": "5e450f14",
   "metadata": {},
   "outputs": [],
   "source": []
  },
  {
   "cell_type": "code",
   "execution_count": null,
   "id": "ffe21670",
   "metadata": {},
   "outputs": [],
   "source": []
  }
 ],
 "metadata": {
  "kernelspec": {
   "display_name": "Python 3 (ipykernel)",
   "language": "python",
   "name": "python3"
  },
  "language_info": {
   "codemirror_mode": {
    "name": "ipython",
    "version": 3
   },
   "file_extension": ".py",
   "mimetype": "text/x-python",
   "name": "python",
   "nbconvert_exporter": "python",
   "pygments_lexer": "ipython3",
   "version": "3.10.12"
  }
 },
 "nbformat": 4,
 "nbformat_minor": 5
}
